{
 "cells": [
  {
   "cell_type": "code",
   "execution_count": 3,
   "metadata": {},
   "outputs": [],
   "source": [
    "import csv\n",
    "import numpy as np\n",
    "import pandas as pd\n",
    "from matplotlib import pyplot as plt\n",
    "\n",
    "#what is the difference between the average charges for smokers or non smokers"
   ]
  },
  {
   "cell_type": "code",
   "execution_count": 4,
   "metadata": {},
   "outputs": [
    {
     "name": "stdout",
     "output_type": "stream",
     "text": [
      "   age     sex     bmi  children smoker     region      charges\n",
      "0   19  female  27.900         0    yes  southwest  16884.92400\n",
      "1   18    male  33.770         1     no  southeast   1725.55230\n",
      "2   28    male  33.000         3     no  southeast   4449.46200\n",
      "3   33    male  22.705         0     no  northwest  21984.47061\n",
      "4   32    male  28.880         0     no  northwest   3866.85520\n"
     ]
    }
   ],
   "source": [
    "#inspect data pandas\n",
    "insurance = pd.read_csv('insurance.csv')\n",
    "print(insurance.head())"
   ]
  },
  {
   "cell_type": "code",
   "execution_count": 5,
   "metadata": {},
   "outputs": [
    {
     "name": "stdout",
     "output_type": "stream",
     "text": [
      "         bmi       charges  count\n",
      "age                              \n",
      "18   31.3500   2198.189850     69\n",
      "19   28.5000   2135.891875     68\n",
      "20   30.6850   2459.720100     29\n",
      "21   26.8800   2254.423600     28\n",
      "22   30.7100   2641.155700     28\n",
      "23   32.1450   3594.538000     28\n",
      "24   28.9000   3045.137650     28\n",
      "25   28.0725   3750.148925     28\n",
      "26   29.5600   3388.882175     28\n",
      "27   30.4500   4544.324475     28\n",
      "28   29.0700   4344.951450     28\n",
      "29   29.5900   4906.409650     27\n",
      "30   28.6900   4837.582300     27\n",
      "31   29.2600   4738.268200     27\n",
      "32   30.4150   4672.016100     26\n",
      "33   31.5750   6210.083300     26\n",
      "34   29.7350   5490.091700     26\n",
      "35   31.0000   5836.520400     25\n",
      "36   29.0400   5478.036800     25\n",
      "37   30.7800   6985.506950     25\n",
      "38   28.2700   6455.862650     25\n",
      "39   29.6000   7512.267000     25\n",
      "40   29.6000   7077.189400     27\n",
      "41   32.2000   6875.961000     27\n",
      "42   29.0000   7443.643050     27\n",
      "43   30.1000  18767.737700     27\n",
      "44   30.2000   8023.135450     27\n",
      "45   30.2000   8603.823400     29\n",
      "46   30.4950   8825.086000     29\n",
      "47   29.5450   9715.841000     29\n",
      "48   31.4450   9447.382400     29\n",
      "49   30.1125   9681.120250     28\n",
      "50   30.1150  10107.220600     29\n",
      "51   33.9150   9875.680400     29\n",
      "52   32.7750  11396.900200     29\n",
      "53   29.9875  11157.174000     28\n",
      "54   31.0200  11816.449500     28\n",
      "55   32.5325  11880.231025     26\n",
      "56   32.2050  11658.247100     26\n",
      "57   30.1525  11893.878225     26\n",
      "58   32.9650  11931.125250     25\n",
      "59   29.7000  12928.791100     25\n",
      "60   29.6400  13204.285650     23\n",
      "61   33.3300  13635.637900     23\n",
      "62   32.0150  13844.797200     23\n",
      "63   32.2000  14349.854400     23\n",
      "64   33.8400  15528.758375     22\n"
     ]
    }
   ],
   "source": [
    "#what is the median of bmi score and charges per ages, with a extra counting column\n",
    "\n",
    "#df per age\n",
    "insurance_per_age = insurance.groupby('age')[['bmi', 'charges']].median()\n",
    "insurance_per_age['count'] = insurance.groupby('age')['age'].count()\n",
    "\n",
    "print(insurance_per_age)\n",
    "\n",
    "#why is there a outlier at age 43?"
   ]
  },
  {
   "cell_type": "code",
   "execution_count": 123,
   "metadata": {},
   "outputs": [
    {
     "name": "stdout",
     "output_type": "stream",
     "text": [
      "      age     sex     bmi  children smoker     region      charges\n",
      "924    43    male  23.200         0     no  southwest   6250.43500\n",
      "501    43    male  26.030         0     no  northeast   6837.36870\n",
      "873    43    male  30.100         1     no  southwest   6849.02600\n",
      "1046   43  female  25.080         0     no  northeast   7325.04820\n",
      "1263   43  female  29.900         1     no  southwest   7337.74800\n",
      "415    43  female  35.640         1     no  southeast   7345.72660\n",
      "598    43    male  32.600         2     no  southwest   7441.50100\n",
      "1160   43  female  34.580         1     no  northwest   7727.25320\n",
      "712    43  female  30.685         2     no  northwest   8310.83915\n",
      "986    43    male  30.115         3     no  northwest   8410.04685\n",
      "396    43  female  34.400         3     no  southwest   8522.00300\n",
      "60     43    male  27.360         3     no  northeast   8606.21740\n",
      "1272   43    male  25.520         5     no  southeast  14478.33015\n",
      "1011   43    male  20.130         2    yes  southeast  18767.73770\n",
      "644    43    male  35.310         2     no  southeast  18806.14547\n",
      "334    43  female  35.720         2     no  northeast  19144.57652\n",
      "896    43  female  20.045         2    yes  northeast  19798.05455\n",
      "1188   43  female  25.270         1    yes  northeast  21771.34230\n",
      "916    43  female  26.885         0    yes  northwest  21774.32215\n",
      "1045   43  female  24.700         2    yes  northwest  21880.82000\n",
      "1171   43  female  26.700         2    yes  southwest  22478.60000\n",
      "1303   43    male  27.800         0    yes  southwest  37829.72420\n",
      "1152   43  female  32.560         3    yes  southeast  40941.28540\n",
      "958    43    male  34.960         1    yes  northeast  41034.22140\n",
      "312    43    male  35.970         3    yes  southeast  42124.51530\n",
      "665    43    male  38.060         2    yes  southeast  42560.43040\n",
      "549    43  female  46.200         0    yes  southeast  45863.20500\n",
      "12\n"
     ]
    }
   ],
   "source": [
    "#print(insurance.head())\n",
    "\n",
    "age_43 = insurance[insurance.age == 43]\n",
    "print(age_43.sort_values(by=['charges']))\n",
    "\n",
    "smokers = age_43.smoker[age_43.smoker == 'yes']\n",
    "print(smokers.count())"
   ]
  },
  {
   "cell_type": "code",
   "execution_count": 7,
   "metadata": {},
   "outputs": [],
   "source": [
    "#average price for str columns\n",
    "\n",
    "#calulating the averages\n",
    "def average_charge(a, column_name):\n",
    "    charge = insurance[insurance[column_name]==a]\n",
    "    average_charge = np.mean(charge.charges)\n",
    "    average_charge = round(average_charge, 1)\n",
    "    print('The average price of ' + column_name + ': '+ str(a) + ' = ' + str(average_charge))\n",
    "\n",
    "#selecting the unique data in the columns\n",
    "def unique_data_column(column_name):\n",
    "    unique_data = insurance.groupby(column_name).sum().reset_index()\n",
    "    for i in unique_data[column_name]:\n",
    "        average_charge(i, column_name)\n",
    "\n",
    "#calling the functions\n",
    "#unique_data_column('sex')\n",
    "#unique_data_column('smoker')\n",
    "#unique_data_column('region')\n"
   ]
  },
  {
   "cell_type": "code",
   "execution_count": 8,
   "metadata": {},
   "outputs": [],
   "source": [
    "#averge price per BMI categorie\n",
    "\n",
    "#function for BMI categories\n",
    "def bmi():\n",
    "    less_twenty = insurance.charges[insurance.bmi < 20].mean()\n",
    "    twenty_twentyfive= insurance.charges[(insurance.bmi > 20) & (insurance.bmi <= 25)].mean()\n",
    "    twentyfive_thirty= insurance.charges[(insurance.bmi > 26) & (insurance.bmi <= 30)].mean()\n",
    "    thirty_thirtyfive= insurance.charges[(insurance.bmi > 31) & (insurance.bmi <= 35)].mean()\n",
    "    thirtyfive_fourty= insurance.charges[(insurance.bmi > 36) & (insurance.bmi <= 40)].mean()\n",
    "    fourty_fourtyfive= insurance.charges[(insurance.bmi > 41) & (insurance.bmi <= 45)].mean()\n",
    "    more_then_fourtsix= insurance.charges[insurance.bmi > 46].mean()\n",
    "\n",
    "    list_bmi = [less_twenty, twenty_twentyfive, twentyfive_thirty, thirty_thirtyfive, thirtyfive_fourty, fourty_fourtyfive, more_then_fourtsix]\n",
    "    list_bmi_names = ['less_twenty', 'twenty_twentyfive', 'twentyfive_thirty', 'thirty_thirtyfive', 'thirtyfive_fourty', 'fourty_fourtyfive', 'more_then_fourtsix']\n",
    "    \n",
    "    for i, j in zip(list_bmi, list_bmi_names):\n",
    "        i = round(i, 2)\n",
    "        print('BMI ' + j + '= ' + str(i))\n",
    "\n",
    "#calling the function\n",
    "#bmi()\n",
    "\n"
   ]
  },
  {
   "cell_type": "code",
   "execution_count": 9,
   "metadata": {},
   "outputs": [],
   "source": [
    "#averge price per Child categorie\n",
    "\n",
    "#function for child categories\n",
    "def child():\n",
    "    zero = insurance.charges[insurance.children == 0].mean()\n",
    "    one = insurance.charges[insurance.children == 1].mean()\n",
    "    two = insurance.charges[(insurance.children == 2)].mean()\n",
    "    three = insurance.charges[(insurance.children == 3)].mean()\n",
    "    four = insurance.charges[(insurance.children == 4)].mean()\n",
    "    five= insurance.charges[(insurance.children == 5)].mean()\n",
    "    more_then_five= insurance.charges[insurance.children > 5].mean()\n",
    "\n",
    "    list_bmi = [zero, one, two, three, four, five, more_then_five]\n",
    "    list_bmi_names = ['zero', 'one', 'two', 'three', 'four', 'five', 'more_then_five']\n",
    "    \n",
    "    for i, j in zip(list_bmi, list_bmi_names):\n",
    "        i = round(i, 2)\n",
    "        if i > 0:\n",
    "            print('Average children charges cost: ' + j + '= ' + str(i))\n",
    "\n",
    "#calling the function\n",
    "#child()\n"
   ]
  },
  {
   "cell_type": "code",
   "execution_count": 10,
   "metadata": {},
   "outputs": [],
   "source": [
    "#average price per region\n",
    "\n",
    "#calulating the averages\n",
    "def average_charge_region(a):\n",
    "    region_charge = insurance[insurance.region==a]\n",
    "    average_charge = np.mean(region_charge.charges)\n",
    "    average_charge = round(average_charge, 1)\n",
    "    print('The average price of ' + a + ': ' + str(average_charge))\n",
    "\n",
    "#selecting the different regions\n",
    "def different_regions():\n",
    "    different_region = insurance.groupby('region').sum().reset_index()\n",
    "    for i in different_region.region:\n",
    "        average_charge_region(i)\n",
    "\n",
    "#calling the functions\n",
    "#different_regions()\n"
   ]
  },
  {
   "cell_type": "code",
   "execution_count": 11,
   "metadata": {},
   "outputs": [
    {
     "name": "stdout",
     "output_type": "stream",
     "text": [
      "The average price of sex: female = 12569.6\n",
      "The average price of sex: male = 13956.8\n",
      "The average price of smoker: no = 8434.3\n",
      "The average price of smoker: yes = 32050.2\n",
      "The average price of region: northeast = 13406.4\n",
      "The average price of region: northwest = 12417.6\n",
      "The average price of region: southeast = 14735.4\n",
      "The average price of region: southwest = 12346.9\n",
      "BMI less_twenty= 8838.56\n",
      "BMI twenty_twentyfive= 10572.03\n",
      "BMI twentyfive_thirty= 11071.83\n",
      "BMI thirty_thirtyfive= 14566.28\n",
      "BMI thirtyfive_fourty= 17089.22\n",
      "BMI fourty_fourtyfive= 16966.78\n",
      "BMI more_then_fourtsix= 18139.17\n",
      "Average children charges cost: zero= 12365.98\n",
      "Average children charges cost: one= 12731.17\n",
      "Average children charges cost: two= 15073.56\n",
      "Average children charges cost: three= 15355.32\n",
      "Average children charges cost: four= 13850.66\n",
      "Average children charges cost: five= 8786.04\n"
     ]
    }
   ],
   "source": [
    "#Calling al the functions\n",
    "\n",
    "unique_data_column('sex')\n",
    "unique_data_column('smoker')\n",
    "unique_data_column('region')\n",
    "\n",
    "bmi()\n",
    "\n",
    "child()"
   ]
  },
  {
   "cell_type": "code",
   "execution_count": 12,
   "metadata": {},
   "outputs": [],
   "source": [
    "#summary\n",
    "#expensive categories\n",
    "\n",
    "#sex: MALE\n",
    "#smoker: YES\n",
    "#BMI: between 35 - 40\n",
    "#children: 3\n",
    "#region: SOUTHEAST"
   ]
  },
  {
   "cell_type": "code",
   "execution_count": 121,
   "metadata": {},
   "outputs": [
    {
     "name": "stdout",
     "output_type": "stream",
     "text": [
      "The age 42 is counted 27 times \n",
      " The age male is counted 14 times \n",
      " The age 3 is counted 1 times \n",
      " The age yes is counted 8 times \n",
      " The age southeast is counted 8 times \n",
      " The BMI above 35 counted 7 times\n"
     ]
    }
   ],
   "source": [
    "#WHY IS 43 A OUTLIER\n",
    "\n",
    "#print(insurance.head(3))\n",
    "\n",
    "#print(count(insurance.region, 'southwest'))\n",
    "\n",
    "#hello =insurance[insurance.age == 43]\n",
    "#print(hello)\n",
    "\n",
    "#print(count(hello.sex, 'male'))\n",
    "\n",
    "def count_data(a):\n",
    "    fourtythree = insurance[insurance.age == a]\n",
    "    age= count(fourtythree.age, a)\n",
    "    sex= count(fourtythree.sex, 'male')\n",
    "    children = count(fourtythree.children, 3)\n",
    "    smoker = count(fourtythree.smoker, 'yes')\n",
    "    region = count(fourtythree.region, 'southeast')\n",
    "    count_bmi = 0\n",
    "    bmi_str = 'The BMI above 35 counted'\n",
    "    times = 'times'\n",
    "    for i in fourtythree.bmi:\n",
    "        if i > 35:\n",
    "            count_bmi = count_bmi +1\n",
    "    print(age, '\\n', sex, '\\n', children, '\\n', smoker, '\\n',region, '\\n', bmi_str, count_bmi, times)\n",
    "\n",
    "count_data(42)"
   ]
  },
  {
   "cell_type": "code",
   "execution_count": null,
   "metadata": {},
   "outputs": [],
   "source": [
    "#they have alot of smokers with a high bmi in the southeast"
   ]
  },
  {
   "cell_type": "code",
   "execution_count": 18,
   "metadata": {},
   "outputs": [
    {
     "name": "stdout",
     "output_type": "stream",
     "text": [
      "0    42124.5153\n",
      "Name: charges, dtype: float64\n"
     ]
    }
   ],
   "source": [
    "#function to compare your data to median; result the charges\n",
    "\n",
    "def compare_your_data(age_def, sex_def, smoker_def, region_def, childeren_def):\n",
    "    age = insurance[insurance.age == age_def]\n",
    "    sex = age[age.sex == sex_def]\n",
    "    smoker = sex[sex.smoker == smoker_def]\n",
    "    region = smoker[smoker.region == region_def]\n",
    "    if childeren_def == 'yes':\n",
    "        childeren = region[region.children > 0].groupby('age').median().reset_index()\n",
    "    #group_age = age.groupby('age').median()\n",
    "    print(childeren.charges)\n",
    "\n",
    "age = 43\n",
    "sex = 'male'\n",
    "smoker = 'yes'\n",
    "region = 'southeast'\n",
    "children = 'yes'\n",
    "\n",
    "compare_your_data(age, sex, smoker, region, children)"
   ]
  },
  {
   "cell_type": "code",
   "execution_count": 19,
   "metadata": {},
   "outputs": [
    {
     "name": "stdout",
     "output_type": "stream",
     "text": [
      "The age 33 is counted 26 times\n",
      "The total charge of age 33: 321139.86 dollar\n",
      "The average charges of age 33: 12351.53 dollar\n"
     ]
    }
   ],
   "source": [
    "#different kind of information about your ages\n",
    "\n",
    "age = 33\n",
    "\n",
    "#counting how many for a unique ages\n",
    "def count(a, b):\n",
    "    total_count= 0\n",
    "    for i in a:\n",
    "        if i == b:\n",
    "            total_count += 1\n",
    "    return \"The age \" + str(b) + ' is counted ' + str(total_count) + ' times'\n",
    "\n",
    "#sum of charges per age\n",
    "def total_charges_age(a):\n",
    "    sum_charges_by_age = insurance.groupby(['age']).charges.sum().reset_index()\n",
    "    for i, j in sum_charges_by_age.iterrows():\n",
    "        #return j['age']\n",
    "        if j['age'] == a:\n",
    "            return 'The total charge of age ' + str(a) + ': ' + (\"%.2f\" % j['charges']) + ' dollar'\n",
    "\n",
    "#the average of charges per age     \n",
    "def average_charges_age(a):\n",
    "    sum_charges_by_age = insurance.groupby(['age']).charges.mean().reset_index()\n",
    "    for i, j in sum_charges_by_age.iterrows():\n",
    "        #return j['age']\n",
    "        if j['age'] == a:\n",
    "            return 'The average charges of age ' + str(a) + ': ' + (\"%.2f\" % j['charges']) + ' dollar'\n",
    "\n",
    "print(count(insurance['age'], age))       \n",
    "print(total_charges_age(age))\n",
    "print(average_charges_age(age))"
   ]
  },
  {
   "cell_type": "code",
   "execution_count": 20,
   "metadata": {},
   "outputs": [
    {
     "name": "stdout",
     "output_type": "stream",
     "text": [
      "               Mean    Median  St. deviat.       Max      Min\n",
      "northeast  13406.38  10057.65     11255.80  58571.07  1694.80\n",
      "northwest  12417.58   8965.80     11072.28  60021.40  1621.34\n",
      "southeast  14735.41   9294.13     13971.10  63770.43  1121.87\n",
      "southwest  12346.94   8798.59     11557.18  52590.83  1241.56\n",
      "Total      13270.42   9382.03     12105.48  63770.43  1121.87\n"
     ]
    }
   ],
   "source": [
    "#create the statistical data from the charges\n",
    "\n",
    "#print(insurance.groupby(['region']).mean())\n",
    "\n",
    "#statistical info insurance charges\n",
    "mean_all = np.mean(insurance.charges)\n",
    "median_all = np.median(insurance.charges)\n",
    "std_all = np.std(insurance.charges)\n",
    "max_all = np.max(insurance.charges)\n",
    "min_all = np.min(insurance.charges)\n",
    "#print(mean_all, median_all, std_all, max_all, min_all)\n",
    "\n",
    "#create a new dataframe for regio and charges\n",
    "region_charges = insurance[['region', 'charges']]\n",
    "\n",
    "#create dataframes per region\n",
    "region_charges_mean = region_charges.groupby(['region']).mean()\n",
    "region_charges_median = region_charges.groupby(['region']).median()\n",
    "region_charges_std = region_charges.groupby(['region']).std()\n",
    "region_charges_max = region_charges.groupby(['region']).max()\n",
    "region_charges_min = region_charges.groupby(['region']).min()\n",
    "\n",
    "#merge/concatenate the dataframes\n",
    "statistical_data = pd.concat([region_charges_mean, region_charges_median, region_charges_std, region_charges_max, region_charges_min], axis=1, ignore_index=True)\n",
    "\n",
    "#statistical_data.append(total_statistical_data)\n",
    "\n",
    "#renaming the columns\n",
    "statistical_data = statistical_data.rename(columns={0: 'Mean', 1: 'Median', 2: 'St. deviat.', 3: 'Max', 4: 'Min'})\n",
    "\n",
    "#this dataframe below should be in the dataframe above\n",
    "total_statistical_data = {'Mean': mean_all, 'Median': median_all, 'St. deviat.': std_all, 'Max': max_all, 'Min': min_all}\n",
    "\n",
    "#creating the dataframe for the totals\n",
    "row_df = pd.DataFrame([total_statistical_data], index=['Total'])\n",
    "\n",
    "#concat/merge the total\n",
    "statistical_data_all = pd.concat([statistical_data, row_df])\n",
    "\n",
    "#round off to specified decimal\n",
    "statistical_data_all = round(statistical_data_all, 2)\n",
    "\n",
    "print(statistical_data_all)"
   ]
  }
 ],
 "metadata": {
  "kernelspec": {
   "display_name": "Python 3",
   "language": "python",
   "name": "python3"
  },
  "language_info": {
   "codemirror_mode": {
    "name": "ipython",
    "version": 3
   },
   "file_extension": ".py",
   "mimetype": "text/x-python",
   "name": "python",
   "nbconvert_exporter": "python",
   "pygments_lexer": "ipython3",
   "version": "3.7.6"
  }
 },
 "nbformat": 4,
 "nbformat_minor": 4
}
